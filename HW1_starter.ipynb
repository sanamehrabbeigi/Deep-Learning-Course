{
  "nbformat": 4,
  "nbformat_minor": 0,
  "metadata": {
    "colab": {
      "provenance": [],
      "include_colab_link": true
    },
    "kernelspec": {
      "display_name": "Python 3",
      "name": "python3"
    },
    "language_info": {
      "name": "python"
    }
  },
  "cells": [
    {
      "cell_type": "markdown",
      "metadata": {
        "id": "view-in-github",
        "colab_type": "text"
      },
      "source": [
        "<a href=\"https://colab.research.google.com/github/sanamehrabbeigi/Deep-Learning-Course/blob/main/HW1_starter.ipynb\" target=\"_parent\"><img src=\"https://colab.research.google.com/assets/colab-badge.svg\" alt=\"Open In Colab\"/></a>"
      ]
    },
    {
      "cell_type": "markdown",
      "metadata": {
        "id": "Y2tb3P5kWjku"
      },
      "source": [
        "# HW1: Introduction to TensorFlow\n",
        "Welcome to Homework 1  &#128522;&#9996;"
      ]
    },
    {
      "cell_type": "markdown",
      "metadata": {
        "id": "o2GcZKE6kPKn"
      },
      "source": [
        " <div dir='rtl'style=\"text-align: right;font-family:verdana;\">\n",
        "\n",
        "کتابخانه  TensorFlow\n",
        "به طور گسترده در مسائل یادگیری ماشین کاربرد دارد. در این تمرین نحوه محاسبات و نحوه تعریف یک شبکه عصبی ساده را در TensorFlow یاد می‌گیریم.  برای شروع ابتدا کتابخانه‌ها و پکیج‌های مورد نیاز را import می‌کنیم."
      ]
    },
    {
      "cell_type": "code",
      "metadata": {
        "id": "KQlPcZv6We7G"
      },
      "source": [
        "\n",
        "%tensorflow_version 2.x\n",
        "import tensorflow as tf\n",
        "import numpy as np\n",
        "import matplotlib.pyplot as plt"
      ],
      "execution_count": null,
      "outputs": []
    },
    {
      "cell_type": "markdown",
      "metadata": {
        "id": "c0GmYnTXwr_N"
      },
      "source": [
        "## A) تنسورها"
      ]
    },
    {
      "cell_type": "markdown",
      "metadata": {
        "id": "f5IpuCZzerrE"
      },
      "source": [
        " <div dir='rtl'style=\"text-align: right;font-family:verdana;\">\n",
        "\n",
        " همانطور که می‌دانیم Tensor ها به عنوان آرایه‌های n بعدی از انواع داده‌های پایه مانند یک رشته (string) یا عدد صحیح (integer) شناخته می‌شوند.\n",
        " در سلول‌های زیر مثال‌هایی از Tensor های صفر و یک بعدی آورده شده است.\n"
      ]
    },
    {
      "cell_type": "code",
      "metadata": {
        "colab": {
          "base_uri": "https://localhost:8080/"
        },
        "id": "GO4orTmdWe36",
        "outputId": "58ddc8b5-80a4-4812-c407-f6425ff64c10"
      },
      "source": [
        "Science = tf.constant(\"chemistry\", tf.string)\n",
        "number = tf.constant(3.14159265358, tf.float64)\n",
        "\n",
        "print(\"`Science` is a {}-d Tensor\".format(tf.rank(Science).numpy()))\n",
        "print(\"`number` is a {}-d Tensor\".format(tf.rank(number).numpy()))"
      ],
      "execution_count": null,
      "outputs": [
        {
          "output_type": "stream",
          "name": "stdout",
          "text": [
            "`Science` is a 0-d Tensor\n",
            "`number` is a 0-d Tensor\n"
          ]
        }
      ]
    },
    {
      "cell_type": "code",
      "metadata": {
        "colab": {
          "base_uri": "https://localhost:8080/"
        },
        "id": "XNZV65pog4bc",
        "outputId": "4eaea840-c46d-47f2-cd2c-c1f05b480ecf"
      },
      "source": [
        "Sciences = tf.constant([\"chemistry\", \"mathematics\"], tf.string)\n",
        "numbers = tf.constant([3.14, 5.16, 2.97], tf.float64)\n",
        "\n",
        "print(\"`Sciences` is a {}-d Tensor with shape: {}\".format(tf.rank(Sciences).numpy(), tf.shape(Sciences)))\n",
        "print(\"`numbers` is a {}-d Tensor with shape: {}\".format(tf.rank(numbers).numpy(), tf.shape(numbers)))"
      ],
      "execution_count": null,
      "outputs": [
        {
          "output_type": "stream",
          "name": "stdout",
          "text": [
            "`Sciences` is a 1-d Tensor with shape: [2]\n",
            "`numbers` is a 1-d Tensor with shape: [3]\n"
          ]
        }
      ]
    },
    {
      "cell_type": "markdown",
      "metadata": {
        "id": "fIXea11Th6NS"
      },
      "source": [
        "<div dir='rtl'style=\"text-align: right;font-family:verdana;\">\n",
        "\n",
        "\n",
        "در مرحله بعد تنسورهای مرتبه بالاتر را در نظر می‌گیریم. همانطور که می‌دانید انواع تصاویر رنگی که در مسائل یادگیری عمیق و پردازش تصویر با آنها سروکار داریم در واقع تنسور هستند.\n",
        "\n",
        "**تمرین :**\n",
        " در سلول زیر یک تنسور دو بعدی (ماتریس) با ابعاد 4*3 با آرایه‌های دلخواه و یک تنسور 4 بعدی با ابعاد دلخواه تعریف کنید.\n"
      ]
    },
    {
      "cell_type": "code",
      "metadata": {
        "id": "1i3GwTXfYBKp"
      },
      "source": [
        "# TODO ...\n",
        "Matrix = tf.constant([[1, 2, 3, 4],\n",
        "                      [5, 6, 7, 8],\n",
        "                      [9, 10, 11, 12]])\n",
        "\n",
        "rank_4_tensor = tf.zeros([3, 2, 4, 5])"
      ],
      "execution_count": null,
      "outputs": []
    },
    {
      "cell_type": "markdown",
      "metadata": {
        "id": "Iwrb0mzZrrTm"
      },
      "source": [
        "<div dir='rtl'style=\"text-align: right;font-family:verdana;\">\n",
        "\n",
        "\n",
        "**تمرین:**\n",
        "برای ماتریسی که در سلول قبل تعریف کردید، ردیف سوم و ستون دوم ماتریس و همچنین آرایه قرار گرفته در ردیف اول و ستون دوم را نشان دهید."
      ]
    },
    {
      "cell_type": "code",
      "metadata": {
        "id": "K4ehs1cIsi2l",
        "colab": {
          "base_uri": "https://localhost:8080/"
        },
        "outputId": "b7f0e303-0bdc-47c5-e633-131e43a60f61"
      },
      "source": [
        "#  The third row of the matrix\n",
        "Third_row = Matrix[2, :].numpy()\n",
        "print(\"Third row:\",Third_row)\n",
        "#  The second column of the matrix\n",
        "second_column =  Matrix[:, 1].numpy()\n",
        "print(\"Second column:\",second_column)\n",
        "# matrix array\n",
        "scalar_array =  Matrix[0, 1].numpy()\n",
        "print(\"Matrix[0][1]:\",scalar_array)\n"
      ],
      "execution_count": null,
      "outputs": [
        {
          "output_type": "stream",
          "name": "stdout",
          "text": [
            "Third row: [ 9 10 11 12]\n",
            "Second column: [ 2  6 10]\n",
            "Matrix[0][1]: 2\n"
          ]
        }
      ]
    },
    {
      "cell_type": "markdown",
      "metadata": {
        "id": "JuEPqlmew1J_"
      },
      "source": [
        "\n",
        "## B)  محاسبات روی تنسورها"
      ]
    },
    {
      "cell_type": "markdown",
      "metadata": {
        "id": "M2GF6ThHG704"
      },
      "source": [
        "<div dir='rtl'style=\"text-align: right;font-family:verdana;\">\n",
        "\n",
        "عملیات ریاضی مختلفی را می‌توانیم بر روی تنسورها انجام داده و نتایج را مشاهده کنیم. برای مثال در سلول زیر عمل جمع روی دو مقدار ثابت a و b انجام شده است.\n"
      ]
    },
    {
      "cell_type": "code",
      "metadata": {
        "colab": {
          "base_uri": "https://localhost:8080/"
        },
        "id": "bkCyTJAseKyy",
        "outputId": "a6b62136-189c-4e31-c040-53b3e8b56e5d"
      },
      "source": [
        "a = tf.constant(21)\n",
        "b = tf.constant(67)\n",
        "c1 = tf.add(a,b)\n",
        "print(c1)"
      ],
      "execution_count": null,
      "outputs": [
        {
          "output_type": "stream",
          "name": "stdout",
          "text": [
            "tf.Tensor(88, shape=(), dtype=int32)\n"
          ]
        }
      ]
    },
    {
      "cell_type": "markdown",
      "metadata": {
        "id": "Q7JIw3cWdUYW"
      },
      "source": [
        "<div dir='rtl'style=\"text-align: right;font-family:verdana;\">\n",
        "\n",
        "**تمرین:**\n",
        "تابع ساده‌ای در سلول زیر نوشته تا محاسبات زیر را انجام دهد:\n",
        "\n",
        "$e = (a-3)*(2a+b)$\n",
        "\n",
        "\n"
      ]
    },
    {
      "cell_type": "code",
      "metadata": {
        "id": "CYbLFS00hLe4"
      },
      "source": [
        "# Please Define a function\n",
        "@tf.function\n",
        "def func(a,b):\n",
        "  # TODO ...\n",
        "  e = tf.multiply(tf.add(a,-3),tf.add(tf.multiply(2,a),b))\n",
        "  return e"
      ],
      "execution_count": null,
      "outputs": []
    },
    {
      "cell_type": "markdown",
      "metadata": {
        "id": "4kudbboalOK5"
      },
      "source": [
        "\n",
        " <div dir='rtl'style=\"text-align: right;font-family:verdana;\">\n",
        "\n",
        "**تمرین:**\n",
        "  مقدار خروجی این تابع را به ازای  a = 1 و b = 2 نشان دهید:"
      ]
    },
    {
      "cell_type": "code",
      "metadata": {
        "id": "VsJ9eOFKqNxy",
        "colab": {
          "base_uri": "https://localhost:8080/"
        },
        "outputId": "2185320e-b4eb-4909-f029-a9ebd4c79a31"
      },
      "source": [
        "# compute the  function output  for a=1 , b=2\n",
        "     # TODO ...\n",
        "print(f\"func = {func(1,2)}\")"
      ],
      "execution_count": null,
      "outputs": [
        {
          "output_type": "stream",
          "name": "stdout",
          "text": [
            "func =-8\n"
          ]
        }
      ]
    },
    {
      "cell_type": "markdown",
      "metadata": {
        "id": "ffaCwpAk52D9"
      },
      "source": [
        "\n",
        "## C)  شبکه‌های عصبی"
      ]
    },
    {
      "cell_type": "markdown",
      "metadata": {
        "id": "tlurzxLyKono"
      },
      "source": [
        "<div dir='rtl'style=\"text-align: right;font-family:verdana;\">\n",
        "\n",
        "در ادامه می‌خواهیم یاد بگیریم که چگونه یک مدل شبکه عصبی ساده با استفاده از Tensorflow بنویسیم.\n",
        "برای شروع ابتدا یک perceptron ساده با تنها یک لایه $ y = \\sigma(Wx + b)$ در نظر می‌گیریم.\n",
        "\n",
        "\n",
        "**تمرین :**\n",
        "با توجه به موارد زیر در سلول زیر کد یک لایه پرسپترون ساده را با استفاده از Tensorflow بنویسید:\n",
        "\n",
        "- W  ماتریس وزن\n",
        "- b بایاس\n",
        "- x ورودی\n",
        "- $\\sigma$ تابع فعال‌ساز سیگموید\n",
        "- y خروجی\n"
      ]
    },
    {
      "cell_type": "code",
      "metadata": {
        "id": "JR0eyj_MDxeB",
        "colab": {
          "base_uri": "https://localhost:8080/"
        },
        "outputId": "8ac200e0-9c79-48cd-ac48-bbc7045d64b7"
      },
      "source": [
        "### Please Defining simple perseptron with one layer ###\n",
        "# TODO\n",
        "def perceptron(W,x,b):\n",
        "  z = tf.matmul(tf.transpose(x),W)\n",
        "  z = tf.add(z,b)\n",
        "  y = tf.math.sigmoid(z)\n",
        "  return y\n",
        "\n",
        "W = tf.constant([1,1],dtype=tf.float32,shape=(2,1))\n",
        "b = tf.constant(-1.5)\n",
        "\n",
        "for i in range(2):\n",
        "  for j in range(2):\n",
        "    result = perceptron(W,tf.constant([i,j],dtype=tf.float32,shape=(2,1)),b)\n",
        "    #print(result)\n",
        "    if(result < 0.5):\n",
        "      print(f\"{i}, {j} :0\")\n",
        "    else:\n",
        "      print(f\"{i}, {j} :1\")"
      ],
      "execution_count": null,
      "outputs": [
        {
          "output_type": "stream",
          "name": "stdout",
          "text": [
            "0, 0 :0\n",
            "0, 1 :0\n",
            "1, 0 :0\n",
            "1, 1 :1\n"
          ]
        }
      ]
    },
    {
      "cell_type": "markdown",
      "metadata": {
        "id": "U4vtUt1t6Ibe"
      },
      "source": [
        "### Keras Sequential API"
      ]
    },
    {
      "cell_type": "markdown",
      "metadata": {
        "id": "5VY6yG_QTEV7"
      },
      "source": [
        "<div dir='rtl'style=\"text-align: right;font-family:verdana;\">\n",
        "\n",
        "استفاده از Keras Sequential API  یک روش بسیار راحت برای ایجاد مدل‌های شبکه عصبی است. یک مدل متوالی همانطور که از اسم آن پیداست، به شما این امکان را می‌دهد که مدل‌های لایه به لایه را به صورت مرحله به مرحله ایجاد کنید. این روش آسان ترین و در عین حال محدود کننده ترین روش برای ایجاد مدل است. نمونه‌هایی از معماری‌های پی در پی که ممکن است قبلا از آنها استفاده کرده باشید و یا دیده باشید، عبارتند از:\n",
        "\n",
        "\n",
        "*   LeNet\n",
        "*   AlexNet\n",
        "*   VGGNet\n",
        "\n",
        "\n",
        "\n",
        "\n",
        "\n",
        "\n",
        "**تمرین:**\n",
        "حال  با استفاده از کتابخانه keras و مدل Sequential یک لایه کاملا متصل (fully connected) بنویسید.\n",
        "\n",
        "\n"
      ]
    },
    {
      "cell_type": "code",
      "metadata": {
        "id": "Xhacnekl6DBG",
        "colab": {
          "base_uri": "https://localhost:8080/"
        },
        "outputId": "573f8a78-7e00-4f2d-d532-2c5b72d993e4"
      },
      "source": [
        "### Please Defining a neural network using keras  ###\n",
        "from tensorflow.keras import Sequential\n",
        "from tensorflow.keras.layers import Dense\n",
        "# TODO  ...\n",
        "model = tf.keras.Sequential([\n",
        "      tf.keras.layers.Dense(2,activation=\"sigmoid\",input_shape=(3,))\n",
        "])\n",
        "\n",
        "model.summary()"
      ],
      "execution_count": null,
      "outputs": [
        {
          "output_type": "stream",
          "name": "stdout",
          "text": [
            "Model: \"sequential_9\"\n",
            "_________________________________________________________________\n",
            " Layer (type)                Output Shape              Param #   \n",
            "=================================================================\n",
            " dense_10 (Dense)            (None, 2)                 8         \n",
            "                                                                 \n",
            "=================================================================\n",
            "Total params: 8\n",
            "Trainable params: 8\n",
            "Non-trainable params: 0\n",
            "_________________________________________________________________\n"
          ]
        }
      ]
    },
    {
      "cell_type": "markdown",
      "metadata": {
        "id": "xF8hyq9bUvW1"
      },
      "source": [
        "<div dir='rtl'style=\"text-align: right;font-family:verdana;\">\n",
        "\n",
        "**تمرین:**\n",
        "\n",
        "مدل نوشته شده در سلول قبلی را با استفاده از یک ورودی نمونه تست کنید."
      ]
    },
    {
      "cell_type": "code",
      "metadata": {
        "id": "GgSnQUwb8I-S",
        "colab": {
          "base_uri": "https://localhost:8080/"
        },
        "outputId": "83bb9d42-c035-4780-ff62-90b41cb05eeb"
      },
      "source": [
        "# Test your model\n",
        "# TODO\n",
        "x1 = tf.ones((1, 3))\n",
        "x2 = tf.zeros((1,3))\n",
        "y = model(x1)\n",
        "print(y)\n",
        "y = model(x2)\n",
        "print(y)"
      ],
      "execution_count": null,
      "outputs": [
        {
          "output_type": "stream",
          "name": "stdout",
          "text": [
            "tf.Tensor([[0.7070272  0.46513993]], shape=(1, 2), dtype=float32)\n",
            "tf.Tensor([[0.5 0.5]], shape=(1, 2), dtype=float32)\n"
          ]
        }
      ]
    },
    {
      "cell_type": "markdown",
      "metadata": {
        "id": "iFaTNB8X8Uiv"
      },
      "source": [
        "### Model subclassing with Keras"
      ]
    },
    {
      "cell_type": "markdown",
      "metadata": {
        "id": "ZSKGqphYW6Lm"
      },
      "source": [
        "<div dir='rtl'style=\"text-align: right;font-family:verdana;\">\n",
        "\n",
        "یک روش دیگر برای پیاده‌سازی معماری مدل، model subclassing نامیده می‌شود. در این روش به طور کامل قابل تنظیم است و شما را قادر می‌سازد که مدل سفارشی خود را پیاده‌سازی کنید. با این حال این انعطاف‌پذیری هزینه‌هایی هم در بر دارد.\n",
        "\n",
        "**تمرین:**\n",
        "راجع به مزایا و معایای این روش پیاده‌سازی بحث کنید:\n",
        "\n",
        "**مزایا**: اجازه شخصی سازی بیشتر و طراحی شبکه با توجه ب نیازمندی های مسئله\n",
        "\n",
        "**معایب**: به دلیل شخصی سازی کردن و آماده نبودن،‌ پیاده سازی آن زمانبر تر\n",
        "است و به دلیل استفاده نکردن از تابع و بهینه سازی های آماده عملکرد آن ممکن است ضعیف تر باشد.\n",
        "\n",
        "**تمرین:**\n",
        "\n",
        " شبکه عصبی که در بالا به صورت Sequential تعریف کردید به صورت Subclassing تعریف کنید و مدل را به ازای ورودی داده شده، تست کنید."
      ]
    },
    {
      "cell_type": "code",
      "metadata": {
        "id": "0ubrq4zxS9an"
      },
      "source": [
        "###  Please Defining  model using subclassing ###\n",
        "\n",
        "# TODO\n",
        "class Linear(tf.keras.layers.Layer):\n",
        "    def __init__(self,input_dim,output_dim):\n",
        "        super(Linear,self).__init__()\n",
        "        self.W = self.add_weight(shape=(input_dim,output_dim))\n",
        "        self.b = self.add_weight(shape=(1,output_dim))\n",
        "\n",
        "    def call(self, inputs):\n",
        "        return tf.math.sigmoid(tf.add(tf.matmul(inputs, self.W),self.b))\n"
      ],
      "execution_count": null,
      "outputs": []
    },
    {
      "cell_type": "code",
      "metadata": {
        "id": "GiOLprqxT1qh",
        "colab": {
          "base_uri": "https://localhost:8080/"
        },
        "outputId": "d96ee40d-beb2-4d61-fd5b-fdfdf3e522ae"
      },
      "source": [
        "# Test your model\n",
        "# TODO\n",
        "model = Linear(3,2)\n",
        "x1 = tf.ones((1, 3))\n",
        "x2 = tf.zeros((1,3))\n",
        "y = model(x1)\n",
        "print(y)\n",
        "y = model(x2)\n",
        "print(y)\n"
      ],
      "execution_count": null,
      "outputs": [
        {
          "output_type": "stream",
          "name": "stdout",
          "text": [
            "tf.Tensor([[0.5271521  0.12370726]], shape=(1, 2), dtype=float32)\n",
            "tf.Tensor([[0.76200235 0.40053153]], shape=(1, 2), dtype=float32)\n"
          ]
        }
      ]
    },
    {
      "cell_type": "markdown",
      "metadata": {
        "id": "PhIy-rLz6FNP"
      },
      "source": [
        "### Backpropagation"
      ]
    },
    {
      "cell_type": "markdown",
      "metadata": {
        "id": "nPTNWkM_ADfA"
      },
      "source": [
        "<div dir='rtl'style=\"text-align: right;font-family:verdana;\">\n",
        "\n",
        "پس از آشنایی اولیه با ساختن لایه‌های شبکه عصبی می‌توانیم توجه خود را به نحوه پیاده‌سازی آموزش شبکه با backpropagation معطوف کنیم، برای این منظور می‌توانیم از  GradientTape tf استفاده کنیم.\n",
        "\n",
        "هنگامی که یک forward pass در شبکه داریم، تمامی این مسیرها توسط \"tape\" ضبط می‌شود و سپس در محاسبه گرادیان مسیر بازگشت از آنها استفاده می‌شود. به طور پیش فرض \"tape\" ها بعد از بازگشت به عقب برداشته می‌شود، در واقع tf.GradientTape  خاص فقط می‌تواند یک گرادیان را محاسبه کند.\n",
        "\n",
        "برای تابع ساده $ y = x^2$ گرادیان را محاسبه می‌کنیم:"
      ]
    },
    {
      "cell_type": "code",
      "metadata": {
        "id": "cEch7SxHDwt5"
      },
      "source": [
        "### Gradient computation ###\n",
        "\n",
        "# y = x^2\n",
        "# Example: x = 3.0\n",
        "x = tf.Variable(3.0)\n",
        "\n",
        "# Initiate the gradient tape\n",
        "with tf.GradientTape() as tape:\n",
        "  y = x * x\n",
        "dy_dx = tape.gradient(y, x)"
      ],
      "execution_count": null,
      "outputs": []
    },
    {
      "cell_type": "markdown",
      "metadata": {
        "id": "3X3aV9s9EYL5"
      },
      "source": [
        "<div dir='rtl'style=\"text-align: right;font-family:verdana;\">\n",
        "\n",
        "اکنون درک می‌کنیم که چگونه از GradientTape برای محاسبه مشتقات استفاده کنیم. در مثال زیر می‌توانیم از روش SGD برای به دست آوردن minimun تابع $L=(x-x_f)^2$ استفاده کنیم. که در این مثال $x_f$ یک متغیر برای مقدار مورد نظر است که سعی می‌کنیم برای آن بهینه‌سازی کنیم.\n",
        "\n",
        "\n",
        "**تمرین:**\n",
        "\n",
        "الگوریتم SGD  را برای تعداد تکرار مشخصی نوشته و با استفاده از tf.GradientTape گرادیان‌ها را محاسبه کنید. همچنین نمودار مربوط به مقدار واقعی و مقدار تخمین زده شده را بر اساس تعداد تکرارها رسم کنید.\n",
        "\n",
        "  \n",
        "\n"
      ]
    },
    {
      "cell_type": "code",
      "metadata": {
        "id": "RoGQ0_Bdns2I",
        "colab": {
          "base_uri": "https://localhost:8080/"
        },
        "outputId": "0148fdd9-4389-4eca-b036-394007446e79"
      },
      "source": [
        "### Function minimization ###\n",
        "\n",
        "# TODO\n",
        "x = tf.Variable(157.54386765)\n",
        "xf = tf.constant(43.76938295)\n",
        "lr = tf.constant(0.01)\n",
        "xs = [x.numpy(),]\n",
        "losses = []\n",
        "print(\"xf:\",float(xf), \"x:\", float(x))\n",
        "\n",
        "for i in range(600):\n",
        "    with tf.GradientTape() as tape:\n",
        "        tape.watch(x)\n",
        "        y = (x-xf)**2\n",
        "        losses.append(y.numpy())\n",
        "        dy_dx = tape.gradient(y, x)\n",
        "        x = x - lr*dy_dx\n",
        "        xs.append(x.numpy())\n",
        "\n",
        "print(\"final x:\", x.numpy())"
      ],
      "execution_count": null,
      "outputs": [
        {
          "output_type": "stream",
          "name": "stdout",
          "text": [
            "xf: 43.76938247680664 x: 157.5438690185547\n",
            "final x: 43.770004\n"
          ]
        }
      ]
    },
    {
      "cell_type": "code",
      "metadata": {
        "id": "MdxyfC4rnzHE",
        "colab": {
          "base_uri": "https://localhost:8080/",
          "height": 407
        },
        "outputId": "1a8f2ec2-65d3-4d8e-fed9-deb97c9a0ef7"
      },
      "source": [
        "# Please plot the evolution of x\n",
        "# TODO\n",
        "figure, axis = plt.subplots(1,2,figsize =(10,6))\n",
        "\n",
        "axis[0].plot(losses,color='blue')\n",
        "axis[0].set_title(\"losses\")\n",
        "axis[1].plot(xs,color='red')\n",
        "axis[1].set_title(\"x\")"
      ],
      "execution_count": null,
      "outputs": [
        {
          "output_type": "execute_result",
          "data": {
            "text/plain": [
              "Text(0.5, 1.0, 'x')"
            ]
          },
          "metadata": {},
          "execution_count": 12
        },
        {
          "output_type": "display_data",
          "data": {
            "image/png": "[encoded data removed]",
            "text/plain": [
              "<Figure size 720x432 with 2 Axes>"
            ]
          },
          "metadata": {
            "needs_background": "light"
          }
        }
      ]
    }
  ]
}