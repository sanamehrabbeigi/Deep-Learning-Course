{
  "nbformat": 4,
  "nbformat_minor": 0,
  "metadata": {
    "colab": {
      "provenance": [],
      "include_colab_link": true
    },
    "kernelspec": {
      "name": "python3",
      "display_name": "Python 3"
    }
  },
  "cells": [
    {
      "cell_type": "markdown",
      "metadata": {
        "id": "view-in-github",
        "colab_type": "text"
      },
      "source": [
        "<a href=\"https://colab.research.google.com/github/sanamehrabbeigi/Deep-Learning-Course/blob/main/HW2.ipynb\" target=\"_parent\"><img src=\"https://colab.research.google.com/assets/colab-badge.svg\" alt=\"Open In Colab\"/></a>"
      ]
    },
    {
      "cell_type": "markdown",
      "metadata": {
        "id": "Cm1XpLftPi4A"
      },
      "source": [
        "#Homework 2: MNIST Digit Classification\n"
      ]
    },
    {
      "cell_type": "markdown",
      "metadata": {
        "id": "SBLyk5gVcxWC"
      },
      "source": [
        "<div dir='rtl'style=\"text-align: right;font-family:verdana;\">\n",
        "\n",
        "در این تکلیف هدف طراحی مدلی بر اساس شبکه‌های Fully Connected\n",
        "برای حل مساله‌ی دسته‌بندی اعداد دست نویس است.\n",
        "دیتاستی که در اختیار شما قرار داده شده است, دیتاست\n",
        "[MNIST](http://yann.lecun.com/exdb/mnist/)\n",
        "است\n",
        "که شامل ۱۰ کلاس برای دسته‌بندی اعداد دست نویس ۰-۹ است.\n",
        "در این دیتاست در مجموع ۷۰۰۰۰ تصویر برای تمام ۱۰ کلاس در نظر گرفته شده است که شامل ۶۰۰۰۰ تصویر برای آموزش و ۱۰۰۰۰ تصویر برای تست است.\n",
        "اندازه‌ی تمام تصاویر در این دیتاست ۲۸*۲۸\n",
        "می‌باشد.\n",
        "شبکه‌ی طراحی شده باید بتواند تشخیص دهد که تصویر ورودی متعلق به کدام یک از این کلاس‌ها می‌باشد.\n",
        "طراحی تعداد لایه‌های شبکه و تعداد نورون‌ها بر عهده شما می‌باشد.\n",
        "ساختار شبکه‌ی مورد نظر با کراس در نظر گرفته شده است. در ساختار شبکه‌ی خود از لایه‌ی\n",
        "[Flatten](https://www.tensorflow.org/api_docs/python/tf/keras/layers/Flatten)\n",
        "برای یکسان سازی ابعاد ورودی به مدل خود استفاده کنید.\n",
        "در نهایت دقت مدل را براساس معیارهای\n",
        "Accuracy, Precision, Recall\n",
        "و\n",
        "F1_measure\n",
        " بدست آورید.\n",
        "\n",
        "کد شروع در اختیار شما قرار داده شده است. شما موظف هستید قسمت‌هایی که با TODO نشان داده شده است را به بهترین نحو پر کنید تا به دقت بالایی در شبکه خود دست پیدا کنید.\n"
      ]
    },
    {
      "cell_type": "markdown",
      "metadata": {
        "id": "66eiYEtMtgi_"
      },
      "source": [
        "<div dir='rtl'style=\"text-align: right;font-family:verdana;\">\n",
        "\n",
        "تاثیر موارد زیر را بر عملکرد مدلی که طراحی کرده‌اید بررسی و تحلیل کنید:\n",
        "\n",
        "\n",
        "*   تعداد لایه‌های Fully Connected\n",
        "*   تعداد نورون‌های هر لایه\n",
        "* نرخ یادگیری و batch size\n",
        "* توابع بهینه‌ساز\n",
        "* تعداد داده‌های آموزشی و تست"
      ]
    },
    {
      "cell_type": "code",
      "source": [],
      "metadata": {
        "id": "LXbmnWTSyUKp"
      },
      "execution_count": null,
      "outputs": []
    },
    {
      "cell_type": "code",
      "metadata": {
        "id": "RsGqx_ai_N8F"
      },
      "source": [
        "%tensorflow_version 2.x\n",
        "import tensorflow as tf\n",
        "import matplotlib.pyplot as plt\n",
        "import numpy as np\n",
        "import random\n",
        "from tqdm import tqdm"
      ],
      "execution_count": null,
      "outputs": []
    },
    {
      "cell_type": "markdown",
      "metadata": {
        "id": "HKjrdUtX_N8J"
      },
      "source": [
        "## 1.1 MNIST dataset\n"
      ]
    },
    {
      "cell_type": "code",
      "metadata": {
        "id": "p2dQsHI3_N8K",
        "colab": {
          "base_uri": "https://localhost:8080/"
        },
        "outputId": "18cb99ca-9123-4b9d-ebc9-fed24538e4c7"
      },
      "source": [
        "mnist = tf.keras.datasets.mnist\n",
        "(train_X, train_Y), (test_X, test_Y) = mnist.load_data()\n",
        "train_X = (np.expand_dims(train_X, axis=-1)/255.).astype(np.float32)\n",
        "train_Y = (train_Y).astype(np.int64)\n",
        "test_X = (np.expand_dims(test_X, axis=-1)/255.).astype(np.float32)\n",
        "test_Y = (test_Y).astype(np.int64)"
      ],
      "execution_count": null,
      "outputs": [
        {
          "output_type": "stream",
          "name": "stdout",
          "text": [
            "Downloading data from https://storage.googleapis.com/tensorflow/tf-keras-datasets/mnist.npz\n",
            "11493376/11490434 [==============================] - 0s 0us/step\n",
            "11501568/11490434 [==============================] - 0s 0us/step\n"
          ]
        }
      ]
    },
    {
      "cell_type": "code",
      "metadata": {
        "scrolled": true,
        "id": "bDBsR2lP_N8O",
        "colab": {
          "base_uri": "https://localhost:8080/",
          "height": 589
        },
        "outputId": "dcd456df-1df1-4678-cd46-e180d80d2419"
      },
      "source": [
        "plt.figure(figsize=(10,10))\n",
        "random_inds = np.random.choice(60000,16)\n",
        "for i in range(16):\n",
        "    plt.subplot(4,4,i+1)\n",
        "    plt.xticks([])\n",
        "    plt.yticks([])\n",
        "    img_index = random_inds[i]\n",
        "    plt.imshow(np.squeeze(train_X[img_index]), cmap=plt.cm.binary)\n",
        "    plt.xlabel(train_Y[img_index])"
      ],
      "execution_count": null,
      "outputs": [
        {
          "output_type": "display_data",
          "data": {
            "image/png": "[encoded data removed]",
            "text/plain": [
              "<Figure size 720x720 with 16 Axes>"
            ]
          },
          "metadata": {}
        }
      ]
    },
    {
      "cell_type": "markdown",
      "metadata": {
        "id": "V6hd3Nt1_N8q"
      },
      "source": [
        "## 1.2 Neural Network for Handwritten Digit Classification\n"
      ]
    },
    {
      "cell_type": "code",
      "metadata": {
        "id": "MMZsbjAkDKpU"
      },
      "source": [
        "# your model\n",
        "def Model_fc():\n",
        "  fully_connected_model = tf.keras.Sequential([\n",
        "                                               tf.keras.layers.Flatten(),\n",
        "                                               tf.keras.layers.Dense(128, activation=tf.nn.relu),\n",
        "                                               tf.keras.layers.Dense(10, activation=tf.nn.softmax)\n",
        "# '''TODO'''\n",
        "  ])\n",
        "  return fully_connected_model\n",
        "\n",
        "model = Model_fc()"
      ],
      "execution_count": null,
      "outputs": []
    },
    {
      "cell_type": "markdown",
      "metadata": {
        "id": "-F7lhJl2csPW"
      },
      "source": [
        "<div dir='rtl'style=\"text-align: right;font-family:verdana;\">\n",
        "\n",
        "در هنگام\n",
        "[compile](https://www.tensorflow.org/api_docs/python/tf/keras/models/Sequential#compile)\n",
        "کردن\n",
        "باید برخی از خصوصیات مورد نیاز هنگام آموزش شبکه مانند تابع\n",
        "هزینه,\n",
        "تابع بهینه‌ساز و معیار برای اندازه‌گیری دقت شبکه\n",
        " مشخص شوند. تاثیر این موارد را در آموزش شبکه مورد بررسی قرار دهید.\n",
        "\n",
        "\n",
        "\n",
        "---\n",
        "تابع هزینه:loss='sparse_categorical_crossentropy\n",
        "\n",
        "تابع بهینه ساز:SGD\n",
        "\n",
        "\n",
        "معیار اندازه گیری: دقت\n",
        "\n"
      ]
    },
    {
      "cell_type": "code",
      "metadata": {
        "id": "Lhan11blCaW7"
      },
      "source": [
        "model.compile(optimizer=tf.keras.optimizers.SGD(learning_rate=1e-1),\n",
        "              loss='sparse_categorical_crossentropy',\n",
        "              metrics=['accuracy'])"
      ],
      "execution_count": null,
      "outputs": []
    },
    {
      "cell_type": "markdown",
      "metadata": {
        "id": "qKF6uW-BCaW-"
      },
      "source": [
        "### Train the model\n",
        "\n"
      ]
    },
    {
      "cell_type": "markdown",
      "metadata": {
        "id": "0DBLVEuXd2JT"
      },
      "source": [
        "<div dir='rtl'style=\"text-align: right;\n",
        "\n",
        "---\n",
        "\n",
        "font-family:verdana;\">\n",
        "\n",
        "\n",
        "\n",
        "با فراخوانی تابع\n",
        "[fit](https://www.tensorflow.org/api_docs/python/tf/keras/models/Sequential#fit)\n",
        "می‌توانید مدل خود را بر روی داده‌های دیتاست آموزش دهید. آموزش در تعداد epochها\n",
        " و اندازه‌ی bacthهای مناسب انجام می‌شود.\n",
        " تاثیر تغییر تعداد اوپوک و batch size\n",
        " را مورد بررسی قرار دهید و نتایج را بیان کنید.\n",
        "\n",
        "\n",
        "\n",
        "---\n",
        " batch_size=64, epochs=5\n",
        " هر چه ایپوک بیشتر شود شبکه بیشتر آموزش میبیند مخصوصا در شبکه SGD\n",
        " و بچ سایز 64 و 128 نتیجه های خوبی دریافت کردند.\n"
      ]
    },
    {
      "cell_type": "code",
      "metadata": {
        "id": "EFMbIqIvQ2X0",
        "colab": {
          "base_uri": "https://localhost:8080/"
        },
        "outputId": "4cac35c6-1976-4c23-aee8-84e00c46bdbf"
      },
      "source": [
        "model.fit(train_X, train_Y, batch_size=64, epochs=5)"
      ],
      "execution_count": null,
      "outputs": [
        {
          "output_type": "stream",
          "name": "stdout",
          "text": [
            "Epoch 1/5\n",
            "938/938 [==============================] - 3s 3ms/step - loss: 0.3737 - accuracy: 0.8951\n",
            "Epoch 2/5\n",
            "938/938 [==============================] - 3s 3ms/step - loss: 0.1919 - accuracy: 0.9455\n",
            "Epoch 3/5\n",
            "938/938 [==============================] - 3s 3ms/step - loss: 0.1444 - accuracy: 0.9582\n",
            "Epoch 4/5\n",
            "938/938 [==============================] - 3s 3ms/step - loss: 0.1168 - accuracy: 0.9671\n",
            "Epoch 5/5\n",
            "938/938 [==============================] - 3s 3ms/step - loss: 0.0990 - accuracy: 0.9716\n"
          ]
        },
        {
          "output_type": "execute_result",
          "data": {
            "text/plain": [
              "<keras.callbacks.History at 0x7faff745bbd0>"
            ]
          },
          "metadata": {},
          "execution_count": 7
        }
      ]
    },
    {
      "cell_type": "markdown",
      "metadata": {
        "id": "oEw4bZgGCaXB"
      },
      "source": [
        "### Evaluate accuracy on the test dataset\n"
      ]
    },
    {
      "cell_type": "code",
      "metadata": {
        "id": "VflXLEeECaXC",
        "colab": {
          "base_uri": "https://localhost:8080/"
        },
        "outputId": "9b1cadc6-7ad6-4117-b7ec-3b54c62feff3"
      },
      "source": [
        "'''TODO: Use the evaluate method to test the model!'''\n",
        "score = model.evaluate(train_X, train_Y)\n",
        "\n",
        "print('Test score: ', score[0])\n",
        "print('Test accuracy: ', score[1])\n",
        "print(\"%s: %.2f%%\" % (model.metrics_names[1], score[1]*100))"
      ],
      "execution_count": null,
      "outputs": [
        {
          "output_type": "stream",
          "name": "stdout",
          "text": [
            "1875/1875 [==============================] - 3s 2ms/step - loss: 0.0863 - accuracy: 0.9760\n",
            "Test score:  0.08632955700159073\n",
            "Test accuracy:  0.9759500026702881\n",
            "accuracy: 97.60%\n"
          ]
        }
      ]
    }
  ]
}