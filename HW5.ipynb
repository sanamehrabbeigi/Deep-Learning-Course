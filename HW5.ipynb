{
  "nbformat": 4,
  "nbformat_minor": 0,
  "metadata": {
    "colab": {
      "provenance": [],
      "include_colab_link": true
    },
    "kernelspec": {
      "name": "python3",
      "display_name": "Python 3"
    },
    "language_info": {
      "name": "python"
    },
    "accelerator": "GPU"
  },
  "cells": [
    {
      "cell_type": "markdown",
      "metadata": {
        "id": "view-in-github",
        "colab_type": "text"
      },
      "source": [
        "<a href=\"https://colab.research.google.com/github/sanamehrabbeigi/Deep-Learning-Course/blob/main/HW5.ipynb\" target=\"_parent\"><img src=\"https://colab.research.google.com/assets/colab-badge.svg\" alt=\"Open In Colab\"/></a>"
      ]
    },
    {
      "cell_type": "markdown",
      "metadata": {
        "id": "yC3jpi49UGhL"
      },
      "source": [
        "# HW5: تولید موسیقی با استفاده از شبکه‌های عصبی بازگشتی\n",
        "Welcome to Homework 5  &#128522;&#9996;"
      ]
    },
    {
      "cell_type": "code",
      "metadata": {
        "id": "u69e9Xfvzc4A",
        "colab": {
          "base_uri": "https://localhost:8080/"
        },
        "outputId": "189a66f4-103b-4811-afa8-63d5ca5fd4f2"
      },
      "source": [
        "from google.colab import drive\n",
        "drive.mount('/content/drive')"
      ],
      "execution_count": null,
      "outputs": [
        {
          "output_type": "stream",
          "name": "stdout",
          "text": [
            "Drive already mounted at /content/drive; to attempt to forcibly remount, call drive.mount(\"/content/drive\", force_remount=True).\n"
          ]
        }
      ]
    },
    {
      "cell_type": "markdown",
      "metadata": {
        "id": "5yXL2SSP6Ofh"
      },
      "source": [
        "<div dir='rtl'style=\"text-align: right;font-family:verdana;\">\n",
        "\n",
        "\n",
        "ابتدا بسته‌ها و کتابخانه‌های مورد نیاز را import میکنیم، در طول اجرای کد هر پکیج دیگری که نیاز دارید، قرار دهید."
      ]
    },
    {
      "cell_type": "code",
      "metadata": {
        "id": "Ilib0lI_zFbT",
        "colab": {
          "base_uri": "https://localhost:8080/"
        },
        "outputId": "13e99321-f6ce-4f61-b199-af88e4dbdfde"
      },
      "source": [
        "!pip install -e /content/drive/MyDrive/colab/HW5/deeplearningcourse-20211226T165502Z-001/deeplearningcourse\n",
        "import deeplearningcourse as dlc\n",
        "%tensorflow_version 2.x\n",
        "import tensorflow as tf\n",
        "import numpy as np\n",
        "import matplotlib.pyplot as plt\n",
        "import os\n",
        "import time\n",
        "import functools\n",
        "from IPython import display as ipythondisplay\n",
        "from tqdm import tqdm"
      ],
      "execution_count": null,
      "outputs": [
        {
          "output_type": "stream",
          "name": "stdout",
          "text": [
            "Obtaining file:///content/drive/MyDrive/colab/HW5/deeplearningcourse-20211226T165502Z-001/deeplearningcourse\n",
            "Requirement already satisfied: numpy in /usr/local/lib/python3.7/dist-packages (from deeplearningcourse==0.0.0) (1.19.5)\n",
            "Requirement already satisfied: regex in /usr/local/lib/python3.7/dist-packages (from deeplearningcourse==0.0.0) (2019.12.20)\n",
            "Requirement already satisfied: tqdm in /usr/local/lib/python3.7/dist-packages (from deeplearningcourse==0.0.0) (4.62.3)\n",
            "Requirement already satisfied: gym in /usr/local/lib/python3.7/dist-packages (from deeplearningcourse==0.0.0) (0.17.3)\n",
            "Requirement already satisfied: scipy in /usr/local/lib/python3.7/dist-packages (from gym->deeplearningcourse==0.0.0) (1.4.1)\n",
            "Requirement already satisfied: cloudpickle<1.7.0,>=1.2.0 in /usr/local/lib/python3.7/dist-packages (from gym->deeplearningcourse==0.0.0) (1.3.0)\n",
            "Requirement already satisfied: pyglet<=1.5.0,>=1.4.0 in /usr/local/lib/python3.7/dist-packages (from gym->deeplearningcourse==0.0.0) (1.5.0)\n",
            "Requirement already satisfied: future in /usr/local/lib/python3.7/dist-packages (from pyglet<=1.5.0,>=1.4.0->gym->deeplearningcourse==0.0.0) (0.16.0)\n",
            "Installing collected packages: deeplearningcourse\n",
            "  Attempting uninstall: deeplearningcourse\n",
            "    Found existing installation: deeplearningcourse 0.0.0\n",
            "    Can't uninstall 'deeplearningcourse'. No files were found to uninstall.\n",
            "  Running setup.py develop for deeplearningcourse\n",
            "Successfully installed deeplearningcourse-0.0.0\n"
          ]
        }
      ]
    },
    {
      "cell_type": "markdown",
      "metadata": {
        "id": "E4XwB0mrM14K"
      },
      "source": [
        "\n",
        "\n",
        "## A) مجموعه داده"
      ]
    },
    {
      "cell_type": "markdown",
      "metadata": {
        "id": "v2rwLOYe-tMA"
      },
      "source": [
        "<div dir='rtl'style=\"text-align: right;font-family:verdana;\">\n",
        "\n",
        "ابتدا دیتاست مورد نظر را از طریق پکیجی که در گوگل درایو قرار دایم، load کرده و مراحل بعدی را انجام می‌دهیم.\n",
        "همانطور که گقتیم دیتاست مورد نظر تعدادی آهنگ محلی ایرلندی است که با نماد ABC نشان داده می‌شود. برای درک بهتر می‌توانیم یکی از این آهنگ‌ها را در نماد ABC نشان دهیم.\n",
        "همچنین می‌توانیم این اهنگ را به صورت صوتی نمایش داده و پخش کنیم.\n",
        "\n",
        "\n",
        "\n",
        "\n",
        "\n",
        "*  یکی از نکات مهمی که باید به آن توجه کنید این است که نماد موسیقی فقط شامل اطلاعاتی در مورد نت‌های در حال پخش نمی‌باشد بلکه علاوه بر این اطلاعات، اطلاعات دیگری مانند عنوان آهنگ، کلید و tempo آهنگ نیز وجود دارد.\n",
        "\n"
      ]
    },
    {
      "cell_type": "code",
      "metadata": {
        "id": "4td16DyJWK-M",
        "colab": {
          "base_uri": "https://localhost:8080/"
        },
        "outputId": "34284202-a19b-4f06-8c1e-9eb10cb30df7"
      },
      "source": [
        "\n",
        "songs = dlc.P1.load_data()\n",
        "examplesong = songs[25]\n",
        "print(examplesong)\n",
        "\n"
      ],
      "execution_count": null,
      "outputs": [
        {
          "output_type": "stream",
          "name": "stdout",
          "text": [
            "Found 817 songs in text\n",
            "X:24\n",
            "T:Flowers of Edinburgh\n",
            "Z: id:dc-hornpipe-23\n",
            "M:C|\n",
            "L:1/8\n",
            "K:G Major\n",
            "GE|D2DE G2GA|BGBd cBAG|FGEF DEFG|A2FA D2GE|!\n",
            "D2DE G2GA|BGBd efge|dcBA GFGA|B2G2 G2:|!\n",
            "(3def|g2gf gbag|f2fe fagf|edef gfed|B2e2 e2ge|!\n",
            "dBGB d2Bd|edef g2ge|dcBA GFGA|B2G2 G2:|\n"
          ]
        }
      ]
    },
    {
      "cell_type": "code",
      "metadata": {
        "id": "JlPfK1Rd9aZF",
        "colab": {
          "base_uri": "https://localhost:8080/"
        },
        "outputId": "8bd79f6a-e444-44e2-8e36-d799104782d1"
      },
      "source": [
        "joined_songs = \"\\n\\n\".join(songs)\n",
        "vocab = sorted(set(joined_songs))\n",
        "print( len(vocab))"
      ],
      "execution_count": null,
      "outputs": [
        {
          "output_type": "stream",
          "name": "stdout",
          "text": [
            "83\n"
          ]
        }
      ]
    },
    {
      "cell_type": "markdown",
      "metadata": {
        "id": "ZaaxphA2AvaI"
      },
      "source": [
        "<div dir='rtl'style=\"text-align: right;font-family:verdana;\">\n",
        "\n",
        "\n",
        "روند کار به این صورت است که دنباله‌ای از کاراکترها را به مدل وارد می‌کنیم و مدل را برای پیش‌بینی خروجی که کاراکتر بعدی در هر تایم زمانی است، آموزش می‌دهیم. مدل‌های RNN یک intenal state دارند که به عناصر دیده شده قبلی بستگی دارد، بنابراین اطلاعات مربوط به همه کاراکترهای دیده شده تا یک لحظه مشخص برای ایجاد پیش‌بینی گرفته می‌شوند.\n",
        "\n"
      ]
    },
    {
      "cell_type": "markdown",
      "metadata": {
        "id": "yngUdBh9XYZX"
      },
      "source": [
        "\n",
        "\n",
        "###  A-1) تبدیل متن به بردار"
      ]
    },
    {
      "cell_type": "markdown",
      "metadata": {
        "id": "_dU6j3WFXjf-"
      },
      "source": [
        "<div dir='rtl'style=\"text-align: right;font-family:verdana;\">\n",
        "\n",
        "\n",
        "\n",
        "قبل از شروع آموزش مدل RNN باید یک نمایش عددی از مجوعه داده‌های متنی خود ایجاد کنیم. برای این کار می‌توانیم دو جدول مراجعه ایجاد کنیم که یکی از آنها کاراکترها را به عدد نگاشت می‌کند و دیگری اعداد را به کاراکتر برمی‌گراند. فعلا این کار را برای کاراکترهای منحصر به فرد در دیتاست انجام می‌دهیم.\n",
        "\n",
        "همچنین می‌توانید این نمایش عددی را برای داده‌های متن مشاهده کنید:"
      ]
    },
    {
      "cell_type": "code",
      "metadata": {
        "id": "Iox-ZyaP9cKg"
      },
      "source": [
        "\n",
        "char2idx = {u:i for i, u in enumerate(vocab)}\n",
        "idx2char = np.array(vocab)"
      ],
      "execution_count": null,
      "outputs": []
    },
    {
      "cell_type": "code",
      "metadata": {
        "colab": {
          "base_uri": "https://localhost:8080/"
        },
        "id": "qjflwrUiOLtP",
        "outputId": "7d6af089-1db0-45d4-e3a0-abba91d3f5a9"
      },
      "source": [
        "\n",
        "for char,_ in zip(char2idx, range(20)):\n",
        "    print('  {:4s}: {:2d},'.format(repr(char), char2idx[char]))"
      ],
      "execution_count": null,
      "outputs": [
        {
          "output_type": "stream",
          "name": "stdout",
          "text": [
            "  '\\n':  0,\n",
            "  ' ' :  1,\n",
            "  '!' :  2,\n",
            "  '\"' :  3,\n",
            "  '#' :  4,\n",
            "  \"'\" :  5,\n",
            "  '(' :  6,\n",
            "  ')' :  7,\n",
            "  ',' :  8,\n",
            "  '-' :  9,\n",
            "  '.' : 10,\n",
            "  '/' : 11,\n",
            "  '0' : 12,\n",
            "  '1' : 13,\n",
            "  '2' : 14,\n",
            "  '3' : 15,\n",
            "  '4' : 16,\n",
            "  '5' : 17,\n",
            "  '6' : 18,\n",
            "  '7' : 19,\n"
          ]
        }
      ]
    },
    {
      "cell_type": "markdown",
      "metadata": {
        "id": "omMbST7CPomx"
      },
      "source": [
        "<div dir='rtl'style=\"text-align: right;font-family:verdana;\">\n",
        "\n",
        "**تمرین:**\n",
        "\n",
        "تابعی بنویسید که همه songs string ها را به نمایش عددی تبدیل کند. توجه داشته باشید که خروجی این تابع باید یک np.array با N عنصر باشد که N تعداد کاراکترهای رشته ورودی است. خروجی تابع را vectorized_songs نامگذاری کنید و در مراحل بعدی استفاده کنید."
      ]
    },
    {
      "cell_type": "code",
      "source": [
        " def vectorize(string):\n",
        "   vectorized_songs = np.array([char2idx[char] for char in string])\n",
        "   return vectorized_songs\n",
        "\n",
        "  # ...\n"
      ],
      "metadata": {
        "id": "OUDXRyZWLK5R"
      },
      "execution_count": null,
      "outputs": []
    },
    {
      "cell_type": "code",
      "source": [
        "vectorized_songs = vectorize(joined_songs)"
      ],
      "metadata": {
        "id": "zNnnMxejLg1f"
      },
      "execution_count": null,
      "outputs": []
    },
    {
      "cell_type": "markdown",
      "metadata": {
        "id": "j8xnNo5uZPqN"
      },
      "source": [
        "<div dir='rtl'style=\"text-align: right;font-family:verdana;\">\n",
        "\n",
        "\n",
        "همچنین می‌توان نحوه نگاشت اولین قسمت متن را به یک نمایش integer نمایش داد."
      ]
    },
    {
      "cell_type": "code",
      "metadata": {
        "id": "OG3al8a_ZEN7",
        "colab": {
          "base_uri": "https://localhost:8080/"
        },
        "outputId": "0c99eeed-7a62-4f0e-b4f8-d69409dc430e"
      },
      "source": [
        "print ('{} ---- characters mapped to int ----> {}'.format(repr(joined_songs[:20]), vectorized_songs[:20]))"
      ],
      "execution_count": null,
      "outputs": [
        {
          "output_type": "stream",
          "name": "stdout",
          "text": [
            "\"X:1\\nT:Alexander's\\nZ:\" ---- characters mapped to int ----> [49 22 13  0 45 22 26 67 60 79 56 69 59 60 73  5 74  0 51 22]\n"
          ]
        }
      ]
    },
    {
      "cell_type": "markdown",
      "metadata": {
        "id": "_-FjpXZAMgIJ"
      },
      "source": [
        "\n",
        "\n",
        "## B)  ایجاد نمونه‌های آموزش و لیبل‌ها"
      ]
    },
    {
      "cell_type": "markdown",
      "metadata": {
        "id": "jG2kOtOcaZmf"
      },
      "source": [
        "<div dir='rtl'style=\"text-align: right;font-family:verdana;\">\n",
        "\n",
        "گام بعدی این است که متن را به دنباله‌های نمونه‌ای که در طول آموزش از آن استفاده می‌کنیم، تبدیل کنیم. هر دنباله ورودی که به مدل RNN می‌دهیم دارای یک seq_length است، همچنین باید یک دنباله target برای هر ورودی تعریف کنیم که در آموزش RNN برای پیش‌بینی کاراکتر بعدی استفاده می‌شود.\n",
        "\n",
        "مثلا اگر فرض کنیم seq_length برابر با چهار باشد و متن ورودی ما \"Hello\"  باشد، دنباله هدف \"ello\" است.\n",
        "\n",
        "\n",
        "\n",
        "*   روش دسته‌ای به ما این امکان را می‌دهد که این جریان کاراکترها را به دنباله‌هایی با اندازه‌های دلخواه تبدیل کنیم.\n",
        "\n",
        "*\n",
        "تابع creat_examples نمونه‌های مورد نظر ما را ایجاد می‌کند و از آن برای تولید داده‌های آموزش و لیبل‌های آن‌ها استفاده می‌کنیم."
      ]
    },
    {
      "cell_type": "code",
      "metadata": {
        "id": "Lxjj9RyVS9WA"
      },
      "source": [
        "#  creat training examples and targets\n",
        "\n",
        "def creat_examples(vectorized_songs, seq_length, batch_size):\n",
        "  # the length of the vectorized songs string\n",
        "  n = vectorized_songs.shape[0] - 1\n",
        "  # randomly choose the starting indices for the examples in the training batch\n",
        "  idx = np.random.choice(n-seq_length, batch_size)\n",
        "  input_batch = [vectorized_songs[i : i+seq_length] for i in idx]\n",
        "  output_batch = [vectorized_songs[i+1 : i+seq_length+1] for i in idx]\n",
        "\n",
        "\n",
        "  # x_batch, y_batch provide the true inputs and targets for network training\n",
        "  x_batch = np.reshape(input_batch, [batch_size, seq_length])\n",
        "  y_batch = np.reshape(output_batch, [batch_size, seq_length])\n",
        "  return x_batch, y_batch"
      ],
      "execution_count": null,
      "outputs": []
    },
    {
      "cell_type": "markdown",
      "metadata": {
        "id": "sBE0ldjIevGM"
      },
      "source": [
        "<div dir='rtl'style=\"text-align: right;font-family:verdana;\">\n",
        "\n",
        "\n",
        "   برای درک بهتر می‌توانید چند کاراکتر اول در متن را به همراه target آن مشاهده کنید.\n",
        "\n",
        "\n"
      ]
    },
    {
      "cell_type": "code",
      "metadata": {
        "id": "mYFyE5C2RK-I",
        "colab": {
          "base_uri": "https://localhost:8080/"
        },
        "outputId": "f5229ac3-233e-4e69-a79f-794e60479faf"
      },
      "source": [
        "\n",
        "x_batch, y_batch = creat_examples(vectorized_songs, seq_length= 5, batch_size= 1)\n",
        "\n",
        "for i, (input_idx, target_idx) in enumerate(zip(np.squeeze(x_batch), np.squeeze(y_batch))):\n",
        "    print(\"Step {:3d}\".format(i))\n",
        "    print(\"  input: {} ({:s})\".format(input_idx, repr(idx2char[input_idx])))\n",
        "    print(\"  expected output: {} ({:s})\".format(target_idx, repr(idx2char[target_idx])))"
      ],
      "execution_count": null,
      "outputs": [
        {
          "output_type": "stream",
          "name": "stdout",
          "text": [
            "Step   0\n",
            "  input: 27 ('B')\n",
            "  expected output: 14 ('2')\n",
            "Step   1\n",
            "  input: 14 ('2')\n",
            "  expected output: 27 ('B')\n",
            "Step   2\n",
            "  input: 27 ('B')\n",
            "  expected output: 26 ('A')\n",
            "Step   3\n",
            "  input: 26 ('A')\n",
            "  expected output: 82 ('|')\n",
            "Step   4\n",
            "  input: 82 ('|')\n",
            "  expected output: 27 ('B')\n"
          ]
        }
      ]
    },
    {
      "cell_type": "markdown",
      "metadata": {
        "id": "CBanF8IDamW1"
      },
      "source": [
        "\n",
        "\n",
        "## C) شبکه‌های عصبی بازگشتی"
      ]
    },
    {
      "cell_type": "markdown",
      "metadata": {
        "id": "mbGE09b0iAoO"
      },
      "source": [
        "### C-1) تعریف مدل"
      ]
    },
    {
      "cell_type": "markdown",
      "metadata": {
        "id": "B5N4LjWub93m"
      },
      "source": [
        "<div dir='rtl'style=\"text-align: right;font-family:verdana;\">\n",
        "\n",
        "پس از آماده‌سازی داده‌های آموزش و تست، می‌خواهیم یک شبکه عصبی بازگشتی طراحی کنیم، آموزش دهیم و سپس از مدل آموزش دیده برای تولید موسیقی جدید استفاده کنیم.\n",
        "\n",
        "**تمرین:**\n",
        "\n",
        "مدل پیشنهادی خود را ارائه کنید و آن را آموزش دهید:"
      ]
    },
    {
      "cell_type": "code",
      "metadata": {
        "id": "PsC-OvfQRK9E"
      },
      "source": [
        "# Defining the RNN Model\n",
        "# TODO\n",
        "def LSTM(rnn_units):\n",
        "  return tf.keras.layers.LSTM(\n",
        "      rnn_units,\n",
        "      return_sequences=True,\n",
        "      recurrent_initializer='glorot_uniform',\n",
        "      recurrent_activation='sigmoid',\n",
        "      stateful=True,\n",
        "      )\n",
        "\n",
        "def build_model(vocab_size, embedding_dim, rnn_units, batch_size):\n",
        "  model = tf.keras.Sequential([\n",
        "                               tf.keras.layers.Embedding(vocab_size, embedding_dim, batch_input_shape=[batch_size, None]),\n",
        "                               LSTM(rnn_units),\n",
        "                               tf.keras.layers.Dense(vocab_size)\n",
        "                               ])\n",
        "  return model\n",
        "\n",
        "model = build_model(len(vocab), embedding_dim=256, rnn_units=1024, batch_size=32)"
      ],
      "execution_count": null,
      "outputs": []
    },
    {
      "cell_type": "code",
      "metadata": {
        "id": "gWU74Rl5dUWu",
        "colab": {
          "base_uri": "https://localhost:8080/"
        },
        "outputId": "056505ed-7c92-49de-f7bd-b7261d8009ff"
      },
      "source": [
        "model.summary()"
      ],
      "execution_count": null,
      "outputs": [
        {
          "output_type": "stream",
          "name": "stdout",
          "text": [
            "Model: \"sequential\"\n",
            "_________________________________________________________________\n",
            " Layer (type)                Output Shape              Param #   \n",
            "=================================================================\n",
            " embedding (Embedding)       (32, None, 256)           21248     \n",
            "                                                                 \n",
            " lstm (LSTM)                 (32, None, 1024)          5246976   \n",
            "                                                                 \n",
            " dense (Dense)               (32, None, 83)            85075     \n",
            "                                                                 \n",
            "=================================================================\n",
            "Total params: 5,353,299\n",
            "Trainable params: 5,353,299\n",
            "Non-trainable params: 0\n",
            "_________________________________________________________________\n"
          ]
        }
      ]
    },
    {
      "cell_type": "markdown",
      "metadata": {
        "id": "0LTy4Vs7kUW2"
      },
      "source": [
        "<div dir='rtl'style=\"text-align: right;font-family:verdana;\">\n",
        "\n",
        "**تمرین:**\n",
        "\n",
        "با در نظر گرفتن طول ورودی برابر با 100 و استفاده از تابع pred اندازه خروجی را نشان دهید:\n",
        "\n",
        "\n",
        "*   \n",
        "توجه داشته باشید که می‌توان مدل را بر روی ورودی‌هایی با هر اندازه آموزش داد.\n",
        "\n",
        "\n",
        "\n",
        "\n",
        "\n",
        "\n",
        "\n"
      ]
    },
    {
      "cell_type": "code",
      "metadata": {
        "id": "XRLZlMKZ8NRI",
        "colab": {
          "base_uri": "https://localhost:8080/"
        },
        "outputId": "57d3559e-0e73-4b3f-d117-9ab17d783bc7"
      },
      "source": [
        "x, y = creat_examples(vectorized_songs, seq_length=100, batch_size=32)\n",
        "pred = model(x)\n",
        "print(\"Input shape:      \", x.shape, \" # (batch_size, sequence_length)\")\n",
        "print(\"Prediction shape: \", pred.shape, \"# (batch_size, sequence_length, vocab_size)\")\n",
        "# TODO"
      ],
      "execution_count": null,
      "outputs": [
        {
          "output_type": "stream",
          "name": "stdout",
          "text": [
            "Input shape:       (32, 100)  # (batch_size, sequence_length)\n",
            "Prediction shape:  (32, 100, 83) # (batch_size, sequence_length, vocab_size)\n"
          ]
        }
      ]
    },
    {
      "cell_type": "markdown",
      "metadata": {
        "id": "LfjZC6WY8qwr"
      },
      "source": [
        "<div dir='rtl'style=\"text-align: right;font-family:verdana;\">\n",
        "\n",
        "همچنین می‌توانیم رمزگشایی انجام دهیم تا ورودی را با متن پیش‌بینی شده توسط مدل آموزش ندیده مقایسه کنیم:"
      ]
    },
    {
      "cell_type": "code",
      "metadata": {
        "id": "aRlvQJc89JtS",
        "colab": {
          "base_uri": "https://localhost:8080/"
        },
        "outputId": "6336dc05-8c79-470b-85ee-0ad6335fd363"
      },
      "source": [
        "sampled_indices = tf.random.categorical(pred[10], num_samples=1)\n",
        "sampled_indices = tf.squeeze(sampled_indices,axis=-1).numpy()\n",
        "sampled_indices"
      ],
      "execution_count": null,
      "outputs": [
        {
          "output_type": "execute_result",
          "data": {
            "text/plain": [
              "array([71, 68, 75, 29, 40, 16, 13,  8, 77, 24, 66, 48, 41, 58, 58, 60, 64,\n",
              "       36, 35, 77, 78, 34, 13, 65, 28, 81, 77, 79, 27, 41, 50, 16, 74, 43,\n",
              "       18, 30,  5, 74, 56, 33, 40,  5, 59,  9, 48, 43, 73, 54, 31, 20, 17,\n",
              "       13, 39,  0, 43,  7, 40, 21, 17,  1,  2, 62, 26, 66, 60, 57, 45, 69,\n",
              "       47,  4, 68, 12, 60, 50, 34, 78, 22, 34, 11, 27, 63, 17, 19,  4, 21,\n",
              "       37, 34, 33, 52,  1, 78, 37, 11, 48, 25, 40, 70, 67,  7, 64])"
            ]
          },
          "metadata": {},
          "execution_count": 15
        }
      ]
    },
    {
      "cell_type": "code",
      "metadata": {
        "id": "L3FXSXS98p5_",
        "colab": {
          "base_uri": "https://localhost:8080/"
        },
        "outputId": "c0cf4a8d-fe73-4099-8a1a-76b10c76455c"
      },
      "source": [
        "print(\"input: \\n\", repr(\"\".join(idx2char[x[10]])))\n",
        "print(\"char prediction: \\n\", repr(\"\".join(idx2char[sampled_indices])))"
      ],
      "execution_count": null,
      "outputs": [
        {
          "output_type": "stream",
          "name": "stdout",
          "text": [
            "input: \n",
            " 'cAF FEF|c2d cga|!\\nbgb afa|gfe d2B|cBc edc|dBG G2|]!\\n\\nX:100\\nT:Mug of Brown Ale\\nZ: id:dc-jig-81\\nM:6/8\\n'\n",
            "char prediction: \n",
            " \"pmtDO41,v=kWPcceiKJvwI1jCzvxBPY4sR6E'saHO'd-WRr^F851N\\nR)O95 !gAkebTnV#m0eYIw:I/Bh57#9LIH[ wL/W>Ool)i\"\n"
          ]
        }
      ]
    },
    {
      "cell_type": "markdown",
      "metadata": {
        "id": "2aBYvNWk-V2N"
      },
      "source": [
        "### C-2) آموزش مدل"
      ]
    },
    {
      "cell_type": "markdown",
      "metadata": {
        "id": "h2N0j9k5hY48"
      },
      "source": [
        "<div dir='rtl'style=\"text-align: right;font-family:verdana;\">\n",
        "\n",
        "\n",
        "\n",
        "*   همانطور که مشاهده می‌کنیم متن تولید شده توسط مدل آموزش ندیده بسیار بی معنی است و باید برای بهبود مدل را آموزش دهیم.\n",
        "\n",
        "\n",
        "\n",
        "\n",
        "\n",
        "**تمرین:**\n",
        "\n",
        "تابع هزینه مناسب را برای محاسبه و برگرداندن خطا بین لیبل‌های واقعی و پیش‌بینی شده تعریف کنید.\n",
        " ( از تابع هزینه sparse_categorical_crossentropy  استفاده کنید.)"
      ]
    },
    {
      "cell_type": "code",
      "metadata": {
        "id": "DUheDB3vid4n"
      },
      "source": [
        "# Defining the loss function\n",
        "def loss_function(labels, logits):\n",
        "  loss = tf.keras.losses.sparse_categorical_crossentropy(labels, logits, from_logits=True)\n",
        "  return loss"
      ],
      "execution_count": null,
      "outputs": []
    },
    {
      "cell_type": "markdown",
      "metadata": {
        "id": "47LDbwgJIQfh"
      },
      "source": [
        "<div dir='rtl'style=\"text-align: right;font-family:verdana;\">\n",
        "\n",
        "\n",
        "**تمرین:**\n",
        "\n",
        "تابع خطا را برای محاسبه و برگرداندن مقدار خطا بین مقدار واقعی و مقدار پیش‌بینی شده مدل آموزش ندیده اعمال کنید و مقدار خطا را نشان دهید:"
      ]
    },
    {
      "cell_type": "code",
      "metadata": {
        "id": "IShm7iNCJa5V",
        "colab": {
          "base_uri": "https://localhost:8080/"
        },
        "outputId": "1e813990-e3e0-4510-eecd-fdfa15182f24"
      },
      "source": [
        "# TODO\n",
        "example_batch_loss = loss_function(y, pred)\n",
        "\n",
        "print(\"Prediction shape: \", pred.shape, \" # (batch_size, sequence_length, vocab_size)\")\n",
        "print(\"scalar_loss:      \", example_batch_loss.numpy().mean())"
      ],
      "execution_count": null,
      "outputs": [
        {
          "output_type": "stream",
          "name": "stdout",
          "text": [
            "Prediction shape:  (32, 100, 83)  # (batch_size, sequence_length, vocab_size)\n",
            "scalar_loss:       4.417786\n"
          ]
        }
      ]
    },
    {
      "cell_type": "markdown",
      "metadata": {
        "id": "khR7SKbho7iB"
      },
      "source": [
        "<div dir='rtl'style=\"text-align: right;font-family:verdana;\">\n",
        "\n",
        "\n",
        "**تمرین:**\n",
        "\n",
        "با تعریف هایپرپارامترها به صورت مناسب مدل را آموش دهید:\n",
        "\n",
        "\n",
        "\n",
        "-    هایپرپارامترهای مناسب را برای شبکه انتخاب کرده و نحوه به دست آوردن این هایپرپارامترها را توضیح دهید.\n",
        "num_training_iterations =\n",
        "\n",
        " هر چه بیشتر شود مدت زمان آموزش بیشتر می شود\n",
        "\n",
        "batch_size =\n",
        "\n",
        "عددی بین 1 تا 64 که برای سادگی کار ما 1 را انتخاب کرده ایم\n",
        "\n",
        "seq_length =\n",
        "\n",
        "عددی بین 50 تا 500 که با آزمون و خطا 100 را انتخاب کردیم\n",
        "\n",
        "learning_rate =\n",
        "\n",
        " را با آزمون و خطا انتخاب کرده ایم.5e-3که 1e-5 و 1e-1 عددی بین\n",
        "\n",
        "-  بعد از تعریف هایپرپارامترها مدل را آموزش داده و دقت آن را روی داده‌های آموزش گزارش دهید. همچنین نمودار خطا را در طی فرایند آموزش رسم کنید.\n",
        "\n",
        "-    تعداد ایپوک‌ها در مرحله آموزش چگونه بر عملکرد مدل تاثیر می‌گذارند؟\n",
        "\n",
        "    هر چه بیشتر شوند طول مدت آموزش بیشتر می شود ولی باید مواظب باشیم که دچار\n",
        "  overfitting نشویم زیرا آموزش بیش از حد  باعث بالا بودن واریانس می شود.\n",
        "\n"
      ]
    },
    {
      "cell_type": "code",
      "source": [
        "### Hyperparameter setting and optimization ###\n",
        "num_training_iterations = 2000\n",
        "batch_size = 1\n",
        "seq_length = 100\n",
        "learning_rate = 5e-3\n",
        "\n",
        "vocab_size = len(vocab)\n",
        "embedding_dim = 256\n",
        "rnn_units = 1024\n",
        "\n",
        "# Checkpoint location:\n",
        "checkpoint_dir = './training_checkpoints'\n",
        "checkpoint_prefix = os.path.join(checkpoint_dir, \"my_ckpt\")\n",
        "\n",
        "optimizer = tf.keras.optimizers.Adam(learning_rate)"
      ],
      "metadata": {
        "id": "KIiRVFjbOful"
      },
      "execution_count": null,
      "outputs": []
    },
    {
      "cell_type": "code",
      "metadata": {
        "id": "IIDArLUqidzN",
        "colab": {
          "base_uri": "https://localhost:8080/",
          "height": 559
        },
        "outputId": "e169e19f-d158-4e69-bf0d-14c41f200843"
      },
      "source": [
        "### train model\n",
        "model = build_model(vocab_size, embedding_dim, rnn_units, batch_size)\n",
        "\n",
        "@tf.function\n",
        "def train_step(x, y):\n",
        "  with tf.GradientTape() as tape:\n",
        "    y_hat = model(x)\n",
        "    loss = loss_function(y, y_hat)\n",
        "  grads = tape.gradient(loss, model.trainable_variables)\n",
        "\n",
        "  optimizer.apply_gradients(zip(grads, model.trainable_variables))\n",
        "  return loss\n",
        "\n",
        "# training\n",
        "\n",
        "history = []\n",
        "plotter = dlc.P4.PeriodicPlotter(sec=2, xlabel='Iterations', ylabel='Loss')\n",
        "if hasattr(tqdm, '_instances'): tqdm._instances.clear()\n",
        "\n",
        "for iter in tqdm(range(num_training_iterations)):\n",
        "  x_batch, y_batch = creat_examples(vectorized_songs, seq_length, batch_size)\n",
        "  loss = train_step(x_batch, y_batch)\n",
        "\n",
        "  history.append(loss.numpy().mean())\n",
        "  plotter.plot(history)\n",
        "\n",
        "  #if iter % 100 == 0:\n",
        "    #model.save_weights(checkpoint_prefix)\n",
        "\n",
        "model.save_weights(checkpoint_prefix)"
      ],
      "execution_count": null,
      "outputs": [
        {
          "output_type": "display_data",
          "data": {
            "image/png": "[encoded data removed]",
            "text/plain": [
              "<Figure size 432x288 with 1 Axes>"
            ]
          },
          "metadata": {}
        },
        {
          "output_type": "stream",
          "name": "stderr",
          "text": [
            "100%|██████████| 2000/2000 [01:42<00:00, 19.44it/s]\n"
          ]
        },
        {
          "output_type": "display_data",
          "data": {
            "image/png": "[encoded data removed]",
            "text/plain": [
              "<Figure size 432x288 with 1 Axes>"
            ]
          },
          "metadata": {
            "needs_background": "light"
          }
        }
      ]
    },
    {
      "cell_type": "markdown",
      "metadata": {
        "id": "JWV0AEemXs7L"
      },
      "source": [
        "\n",
        "\n",
        "## D) تولید موسیقی با استفاده از شبکه‌های عصبی بازگشتی"
      ]
    },
    {
      "cell_type": "markdown",
      "metadata": {
        "id": "WZ7LIBRzYjZg"
      },
      "source": [
        "<div dir='rtl'style=\"text-align: right;font-family:verdana;\">\n",
        "\n",
        "اکنون می‌توانیم از RNN آموزش دیده برای تولید موسیقی استفاده کنیم. هنگام تولید موسیقی، ما باید مدل را به نوعی تغذیه کنیم تا شروع به کار کند. هنگامی که یک seed تولید شده داریم، می‌توانیم هر یک از کاراکترهای پی در پی را به صورت تکراری پیش‌بینی کنیم.\n",
        "\n",
        "\n",
        "\n",
        "\n",
        "*   به این نکته توجه داشته باشید که مدل RNN از یک لایه softmax  در لایه آخر استفاده می‌کند که برای نتیجه‌گیری به طور مکرر از این توزیع‌ها نمونه می‌گیریم و سپس از نمونه‌های خود برای کدگذاری آهنگ تولید شده قالب ABC استفاده می‌کنیم.\n",
        "\n",
        "**تمرین:**\n",
        "\n",
        "تابع زیر را برای تولید موسیقی با استفاده از مدل آموزش دیده خود تمکیل کنید:\n"
      ]
    },
    {
      "cell_type": "code",
      "metadata": {
        "id": "dRxdYgYVX5BE"
      },
      "source": [
        "\n",
        "def text_generation(model, start_string, generation_length=1000):\n",
        "# TODO\n",
        "  input_eval = [char2idx[s] for s in start_string]\n",
        "  input_eval = tf.expand_dims(input_eval, 0)\n",
        "\n",
        "  text_generated = []\n",
        "\n",
        "  model.reset_states()\n",
        "  tqdm._instances.clear()\n",
        "\n",
        "  for i in tqdm(range(generation_length)):\n",
        "      predictions = model(input_eval)\n",
        "\n",
        "      predictions = tf.squeeze(predictions, 0)\n",
        "\n",
        "      predicted_id = tf.random.categorical(predictions, num_samples=1)[-1,0].numpy()\n",
        "      input_eval = tf.expand_dims([predicted_id], 0)\n",
        "\n",
        "      text_generated.append(idx2char[predicted_id])\n",
        "\n",
        "  return (start_string + ''.join(text_generated))"
      ],
      "execution_count": null,
      "outputs": []
    },
    {
      "cell_type": "markdown",
      "metadata": {
        "id": "yyQ9krWklMSS"
      },
      "source": [
        "<div dir='rtl'style=\"text-align: right;font-family:verdana;\">\n",
        "\n",
        "\n",
        "**تمرین:**\n",
        "\n",
        "اکنون می‌توانید موسیقی‌های تولید شده (text)\n",
        "را به صورت زیر یا به هر طریقی که می‌توانید، در قالب ABC نشان داده یا پخش کنید."
      ]
    },
    {
      "cell_type": "code",
      "source": [
        "text = text_generation(model, start_string=\"X\", generation_length=1000)\n",
        "\n",
        "songs = dlc.P1.extract_songsnippet(text)\n",
        "for i, song in enumerate(songs):\n",
        "  dlc.P1.play(song)\n",
        "  print(song, end=\"\\n\\n\\n\\n\")"
      ],
      "metadata": {
        "id": "McxJVHkTjpeO",
        "colab": {
          "base_uri": "https://localhost:8080/"
        },
        "outputId": "e76a5d68-a868-4e75-9f2e-581226044f9e"
      },
      "execution_count": null,
      "outputs": [
        {
          "output_type": "stream",
          "name": "stderr",
          "text": [
            "100%|██████████| 1000/1000 [00:09<00:00, 100.57it/s]\n"
          ]
        },
        {
          "output_type": "stream",
          "name": "stdout",
          "text": [
            "Found 5 songs in text\n",
            "X:100\n",
            "T:Mad ermagh Is iw\n",
            "Z: id:dc-reel-118\n",
            "M:C\n",
            "L:1/8\n",
            "K:G Major\n",
            "Bgg2 ageA|c2ec cece|fgag edgb|a2gf ged:|!\n",
            "\n",
            "\n",
            "\n",
            "X:19\n",
            "T:Mullackoll ellughan's\n",
            "Z: id:dc-reel-224\n",
            "M:C\n",
            "L:1/8\n",
            "K:D Major\n",
            "zE|B,DEE DAFA|DEGF EFGB|A3A BGEA|]!\n",
            "BAA2 fagA|BcdB A2Bd|cBAG EGAF|!\n",
            "DEA2 G26K:D Major\n",
            "gag agea|g2aA edgd|BcBe defg|fgag edgf|edcA GADE|!\n",
            "[1 feaf gedB|GFGA Bcde|fafe dcBA|GBde fdec|d2gd BGAB|EGBG EEEG|FDD2 FEDE|FGcG G2:|!\n",
            "d|cde2 dBA|G2E GEE|Bde ce|Aec d2A|fga ged|!\n",
            "Add ed^c|dfa gca|ea ab|ag/f/e/|d/c/f/e/ id:|!\n",
            "\n",
            "\n",
            "\n",
            "X:21\n",
            "T:Kosrerlesell Willy\n",
            "Z: id:dc-reel-134\n",
            "M:C\n",
            "L:1/8\n",
            "K:D Major\n",
            "dgg2 dgd^c|d2B G2:|!\n",
            "\n",
            "\n",
            "\n",
            "X:150\n",
            "T:Crown Blerlavaitea\n",
            "Z: id:dc-polka-17\n",
            "M:3/4\n",
            "L:1/8\n",
            "K:E Mixolydian\n",
            "ge3 ceAc|edBc ABcA|G2GF G:|!\n",
            "aga2 baag|edgd edgd|eaa^g abag|!\n",
            "fdd2 edec|dgg2 d2Bd|gfge ageg|bagf e2:|!\n",
            "agg2 dgdg|fdd2 cAeA|ABBA ceA2|cBc2 A2eA|fdec ABde|fage fdAF|GBBA d2AB:|!\n",
            "\n",
            "\n",
            "\n",
            "X:105\n",
            "T:Carlivdarhaipeipatt\n",
            "Z: id:3\n",
            "T:Cro2s Is Tagsgin\n",
            "Z: id:dc-reel-90\n",
            "M:9/8\n",
            "L:4/8\n",
            "K: G3B|c2Ac BGG:|!\n",
            "Bc|dBAF ABGA|FAAG AcBA|!\n",
            "[1 g2eg fAec|dFAB cAGF|EAFA G4:|!\n",
            "\n",
            "\n",
            "\n"
          ]
        }
      ]
    }
  ]
}